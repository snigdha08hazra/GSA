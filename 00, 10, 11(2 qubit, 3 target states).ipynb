{
 "cells": [
  {
   "cell_type": "code",
   "execution_count": 1,
   "id": "4e210960",
   "metadata": {},
   "outputs": [],
   "source": [
    "from qiskit.quantum_info import Statevector, Operator\n",
    "from qiskit import QuantumCircuit, Aer, execute"
   ]
  },
  {
   "cell_type": "markdown",
   "id": "9678b0a2",
   "metadata": {},
   "source": [
    "### Q = HPHO = H (2 |00⟩ ⟨00| - I) H (I - 2|00⟩ ⟨00| - 2|10⟩ ⟨10| - 2|11⟩ ⟨11|)"
   ]
  },
  {
   "cell_type": "code",
   "execution_count": 2,
   "id": "ecac379d",
   "metadata": {},
   "outputs": [
    {
     "data": {
      "text/plain": [
       "'initialised |ψ0⟩'"
      ]
     },
     "metadata": {},
     "output_type": "display_data"
    },
    {
     "data": {
      "text/latex": [
       "$$ |00\\rangle$$"
      ],
      "text/plain": [
       "<IPython.core.display.Latex object>"
      ]
     },
     "metadata": {},
     "output_type": "display_data"
    },
    {
     "name": "stdout",
     "output_type": "stream",
     "text": [
      "coherence of |ψ0⟩ =  0.0\n"
     ]
    },
    {
     "data": {
      "text/plain": [
       "'applied Hadamard to all |ψ1⟩'"
      ]
     },
     "metadata": {},
     "output_type": "display_data"
    },
    {
     "data": {
      "text/latex": [
       "$$\\frac{1}{2} |00\\rangle+\\frac{1}{2} |01\\rangle+\\frac{1}{2} |10\\rangle+\\frac{1}{2} |11\\rangle$$"
      ],
      "text/plain": [
       "<IPython.core.display.Latex object>"
      ]
     },
     "metadata": {},
     "output_type": "display_data"
    },
    {
     "name": "stdout",
     "output_type": "stream",
     "text": [
      "coherence of |ψ1⟩ =  3.0000000000000004\n"
     ]
    },
    {
     "data": {
      "text/plain": [
       "'applied O operator to |ψ2⟩'"
      ]
     },
     "metadata": {},
     "output_type": "display_data"
    },
    {
     "data": {
      "text/latex": [
       "$$- \\frac{1}{2} |00\\rangle+\\frac{1}{2} |01\\rangle- \\frac{1}{2} |10\\rangle- \\frac{1}{2} |11\\rangle$$"
      ],
      "text/plain": [
       "<IPython.core.display.Latex object>"
      ]
     },
     "metadata": {},
     "output_type": "display_data"
    },
    {
     "name": "stdout",
     "output_type": "stream",
     "text": [
      "coherence of |ψ2⟩ =  3.0000000000000004\n"
     ]
    },
    {
     "data": {
      "text/plain": [
       "'applied Hadamard to all |ψ3⟩'"
      ]
     },
     "metadata": {},
     "output_type": "display_data"
    },
    {
     "data": {
      "text/latex": [
       "$$- \\frac{1}{2} |00\\rangle- \\frac{1}{2} |01\\rangle+\\frac{1}{2} |10\\rangle- \\frac{1}{2} |11\\rangle$$"
      ],
      "text/plain": [
       "<IPython.core.display.Latex object>"
      ]
     },
     "metadata": {},
     "output_type": "display_data"
    },
    {
     "name": "stdout",
     "output_type": "stream",
     "text": [
      "coherence of |ψ3⟩ =  3.0000000000000004\n"
     ]
    },
    {
     "data": {
      "text/plain": [
       "'applied P operator to |ψ4⟩'"
      ]
     },
     "metadata": {},
     "output_type": "display_data"
    },
    {
     "data": {
      "text/latex": [
       "$$- \\frac{1}{2} |00\\rangle+\\frac{1}{2} |01\\rangle- \\frac{1}{2} |10\\rangle+\\frac{1}{2} |11\\rangle$$"
      ],
      "text/plain": [
       "<IPython.core.display.Latex object>"
      ]
     },
     "metadata": {},
     "output_type": "display_data"
    },
    {
     "name": "stdout",
     "output_type": "stream",
     "text": [
      "coherence of |ψ4⟩ =  3.0000000000000004\n"
     ]
    },
    {
     "data": {
      "text/plain": [
       "'applied Hadamard to all |ψ5⟩'"
      ]
     },
     "metadata": {},
     "output_type": "display_data"
    },
    {
     "data": {
      "text/latex": [
       "$$- |01\\rangle$$"
      ],
      "text/plain": [
       "<IPython.core.display.Latex object>"
      ]
     },
     "metadata": {},
     "output_type": "display_data"
    },
    {
     "name": "stdout",
     "output_type": "stream",
     "text": [
      "coherence of |ψ5⟩ =  2.449293598294708e-16\n"
     ]
    },
    {
     "data": {
      "image/png": "[encoded data removed]",
      "text/plain": [
       "<Figure size 705.35x200.667 with 1 Axes>"
      ]
     },
     "execution_count": 2,
     "metadata": {},
     "output_type": "execute_result"
    }
   ],
   "source": [
    "import numpy as np\n",
    "length = np.array(range(2))\n",
    "\n",
    "qc = QuantumCircuit(2)\n",
    "backend = Aer.get_backend('statevector_simulator')\n",
    "result = execute(qc, backend).result()\n",
    "state = result.get_statevector()\n",
    "display(\"initialised |ψ0⟩\", state.draw('latex'))\n",
    "density_operator = state.to_operator()\n",
    "#print(density_operator.data)\n",
    "coherence = 0\n",
    "for i in range(4):\n",
    "    for j in range(4):\n",
    "        if(i != j):\n",
    "            coherence += abs(density_operator.data[i,j])\n",
    "print(\"coherence of |ψ0⟩ = \",coherence)\n",
    "\n",
    "qc.h(length)\n",
    "result = execute(qc, backend).result()\n",
    "state = result.get_statevector()\n",
    "display(\"applied Hadamard to all |ψ1⟩\", state.draw('latex'))\n",
    "density_operator = state.to_operator()\n",
    "#print(density_operator.data)\n",
    "coherence = 0\n",
    "for i in range(4):\n",
    "    for j in range(4):\n",
    "        if(i != j):\n",
    "            coherence += abs(density_operator.data[i,j])\n",
    "print(\"coherence of |ψ1⟩ = \",coherence)\n",
    "\n",
    "O_operator = Operator([[-1, 0, 0, 0],  #00\n",
    "                       [ 0, 1, 0, 0],  #01\n",
    "                       [ 0, 0,-1, 0],  #10\n",
    "                       [ 0, 0, 0,-1]]) #11\n",
    "qc.append(O_operator,[0, 1])\n",
    "result = execute(qc, backend).result()\n",
    "state = result.get_statevector()\n",
    "display(\"applied O operator to |ψ2⟩\", state.draw('latex'))\n",
    "density_operator = state.to_operator()\n",
    "#print(density_operator.data)\n",
    "coherence = 0\n",
    "for i in range(4):\n",
    "    for j in range(4):\n",
    "        if(i != j):\n",
    "            coherence += abs(density_operator.data[i,j])\n",
    "print(\"coherence of |ψ2⟩ = \",coherence)\n",
    "\n",
    "qc.h([0,1])\n",
    "result = execute(qc, backend).result()\n",
    "state = result.get_statevector()\n",
    "display(\"applied Hadamard to all |ψ3⟩\", state.draw('latex'))\n",
    "density_operator = state.to_operator()\n",
    "#print(density_operator.data)\n",
    "coherence = 0\n",
    "for i in range(4):\n",
    "    for j in range(4):\n",
    "        if(i != j):\n",
    "            coherence += abs(density_operator.data[i,j])\n",
    "print(\"coherence of |ψ3⟩ = \",coherence)\n",
    "\n",
    "P_operator = Operator([[ 1, 0, 0, 0],\n",
    "                       [ 0,-1, 0, 0],\n",
    "                       [ 0, 0,-1, 0],\n",
    "                       [ 0, 0, 0,-1]])\n",
    "qc.append(P_operator,[0,1])\n",
    "result = execute(qc, backend).result()\n",
    "state = result.get_statevector()\n",
    "display(\"applied P operator to |ψ4⟩\", state.draw('latex'))\n",
    "density_operator = state.to_operator()\n",
    "#print(density_operator.data)\n",
    "coherence = 0\n",
    "for i in range(4):\n",
    "    for j in range(4):\n",
    "        if(i != j):\n",
    "            coherence += abs(density_operator.data[i,j])\n",
    "print(\"coherence of |ψ4⟩ = \",coherence)\n",
    "\n",
    "qc.h([0,1])\n",
    "result = execute(qc, backend).result()\n",
    "state = result.get_statevector()\n",
    "display(\"applied Hadamard to all |ψ5⟩\", state.draw('latex'))\n",
    "density_operator = state.to_operator()\n",
    "#print(density_operator.data)\n",
    "coherence = 0\n",
    "for i in range(4):\n",
    "    for j in range(4):\n",
    "        if(i != j):\n",
    "            coherence += abs(density_operator.data[i,j])\n",
    "print(\"coherence of |ψ5⟩ = \",coherence)\n",
    "\n",
    "qc.draw('mpl')"
   ]
  },
  {
   "cell_type": "code",
   "execution_count": null,
   "id": "4a185996",
   "metadata": {},
   "outputs": [],
   "source": []
  }
 ],
 "metadata": {
  "kernelspec": {
   "display_name": "Python 3 (ipykernel)",
   "language": "python",
   "name": "python3"
  },
  "language_info": {
   "codemirror_mode": {
    "name": "ipython",
    "version": 3
   },
   "file_extension": ".py",
   "mimetype": "text/x-python",
   "name": "python",
   "nbconvert_exporter": "python",
   "pygments_lexer": "ipython3",
   "version": "3.9.13"
  }
 },
 "nbformat": 4,
 "nbformat_minor": 5
}
